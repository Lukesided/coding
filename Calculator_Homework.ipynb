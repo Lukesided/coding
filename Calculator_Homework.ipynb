{
  "nbformat": 4,
  "nbformat_minor": 0,
  "metadata": {
    "colab": {
      "provenance": [],
      "authorship_tag": "ABX9TyNx9cNqxm/cD094w5X0spi9",
      "include_colab_link": true
    },
    "kernelspec": {
      "name": "python3",
      "display_name": "Python 3"
    },
    "language_info": {
      "name": "python"
    }
  },
  "cells": [
    {
      "cell_type": "markdown",
      "metadata": {
        "id": "view-in-github",
        "colab_type": "text"
      },
      "source": [
        "<a href=\"https://colab.research.google.com/github/Lukesided/coding/blob/main/Calculator_Homework.ipynb\" target=\"_parent\"><img src=\"https://colab.research.google.com/assets/colab-badge.svg\" alt=\"Open In Colab\"/></a>"
      ]
    },
    {
      "cell_type": "code",
      "execution_count": null,
      "metadata": {
        "id": "_NYBghuAC2ZD",
        "colab": {
          "base_uri": "https://localhost:8080/"
        },
        "outputId": "dbfa27a5-40f2-4c2a-c83e-1f129c136ff4"
      },
      "outputs": [
        {
          "output_type": "stream",
          "name": "stdout",
          "text": [
            "1. Add  2. Subtract  3. Multiply  4. Divide\n",
            "Does NOT work properly on negative numbers. please, only positive.\n",
            "When typing, the first number is the larger number.\n",
            "THE FOLLOWING QUESTION IS NOT CASE-SENSITIVE.\n",
            "Choose choices. (Add/Subtract/Multiply/Divide)Subtract\n",
            "Enter the first number:5\n",
            "Enter the second number:3\n",
            "5.0 - 3.0 = -1.0\n"
          ]
        }
      ],
      "source": [
        "def add(x,y):\n",
        "  return x + y\n",
        "\n",
        "def subtract(x,y):\n",
        "  return x - y\n",
        "\n",
        "def multiply(x,y):\n",
        "  return x * y\n",
        "\n",
        "def divide(x,y):\n",
        "  return x / y\n",
        "\n",
        "print(\"1. Add  2. Subtract  3. Multiply  4. Divide\")\n",
        "print(\"Does NOT work properly on negative numbers. please, only positive.\")\n",
        "print(\"When typing, the first number is the larger number.\")\n",
        "print(\"THE FOLLOWING QUESTION IS NOT CASE-SENSITIVE.\")\n",
        "choices = input(\"Choose choices. (Add/Subtract/Multiply/Divide)\")\n",
        "\n",
        "\n",
        "if choices == \"Add\":\n",
        "  num1 = float(input(\"Enter the first number:\"))\n",
        "  num2 = float(input(\"Enter the second number:\"))\n",
        "  print(num1, \"+\", num2, \"=\", add(num1,num2))\n",
        "\n",
        "if choices == \"Subtract\":\n",
        "    num3 = float(input(\"Enter the first number:\"))\n",
        "    num4 = float(input(\"Enter the second number:\"))\n",
        "    print(num3, \"-\", num4, \"=\", subtract(num1,num2))\n",
        "\n",
        "if choices == \"Multiply\":\n",
        "      num5 = float(input(\"Enter the first number:\"))\n",
        "      num6 = float(input(\"Enter the second number:\"))\n",
        "      print(num5, \"*\", num6 ,\"=\", multiply(num5,num6))\n",
        "\n",
        "if choices == \"Divide\":\n",
        "        num7 = float(input(\"Enter the first number:\"))\n",
        "        num8 = float(input(\"Enter the second number:\"))\n",
        "        print(num7 ,\"/\", num8 ,\"=\", divide(num7,num8))\n",
        "\n",
        "\n",
        "\n",
        "\n",
        "\n",
        "\n"
      ]
    },
    {
      "cell_type": "code",
      "source": [],
      "metadata": {
        "id": "WV7jqJrYExNh"
      },
      "execution_count": null,
      "outputs": []
    }
  ]
}