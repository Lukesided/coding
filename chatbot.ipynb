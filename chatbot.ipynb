{
  "cells": [
    {
      "cell_type": "markdown",
      "metadata": {
        "id": "view-in-github",
        "colab_type": "text"
      },
      "source": [
        "<a href=\"https://colab.research.google.com/github/Lukesided/coding/blob/main/chatbot.ipynb\" target=\"_parent\"><img src=\"https://colab.research.google.com/assets/colab-badge.svg\" alt=\"Open In Colab\"/></a>"
      ]
    },
    {
      "cell_type": "code",
      "execution_count": 4,
      "metadata": {
        "colab": {
          "base_uri": "https://localhost:8080/"
        },
        "id": "6RTcRU8OtH64",
        "outputId": "d4da4de8-9811-450b-fda8-1ce38d37279e"
      },
      "outputs": [
        {
          "output_type": "stream",
          "name": "stdout",
          "text": [
            "Hello! Welcome to the chatbot!\n",
            "The menu will be shown below. It is NOT case-sensitive.\n",
            "1. I want to finish this conversation.\n",
            "2. How are you?\n",
            "3. What would you like to talk about?\n",
            "4. Want a free upgrade?\n",
            "5. What is your version?\n",
            "6. Please calculate something for me.\n",
            "7. What's your favourite thing/person/place?\n",
            "8. What's your name?\n",
            "9. What is your net worth?\n",
            "What would you like to talk about?\n",
            "Please give me a name.··········\n",
            "Enter: (1/2/3/4/5/6/7/8/9) 1\n",
            "Ok, I will finish the conversation.\n"
          ]
        }
      ],
      "source": [
        "import getpass\n",
        "import random\n",
        "def add(x,y):\n",
        " return x + y\n",
        "def subtract(x,y):\n",
        " return x - y\n",
        "print(\"Hello! Welcome to the chatbot!\")\n",
        "print(\"The menu will be shown below. It is NOT case-sensitive.\")\n",
        "\n",
        "print(\"1. I want to finish this conversation.\")\n",
        "print(\"2. How are you?\")\n",
        "print(\"3. What would you like to talk about?\")\n",
        "print(\"4. Want a free upgrade?\")\n",
        "print(\"5. What is your version?\")\n",
        "print(\"6. Please calculate something for me.\")\n",
        "print(\"7. What's your favourite thing/person/place?\")\n",
        "print(\"8. What's your name?\")\n",
        "print(\"9. What is your net worth?\")\n",
        "print(\"What would you like to talk about?\")\n",
        "newname = getpass.getpass(prompt=\"Please give me a name.\")\n",
        "while True:\n",
        " topic = input(\"Enter: (1/2/3/4/5/6/7/8/9) \")\n",
        " if topic == \"1\":\n",
        "  print(\"Ok, I will finish the conversation.\")\n",
        "  break\n",
        " if topic == \"2\":\n",
        "  print(\"I'm fine. Perfect, in fact!\")\n",
        " if topic == \"3\":\n",
        "  print(\"Please do not try to mimic me. 🛑\")\n",
        " if topic == \"4\":\n",
        "  print(\"Sure! Although I sadly cannot get that upgrade, I am a chatbot only.\")\n",
        " if topic == \"5\":\n",
        "  print(\"Version 0.1. My newest update was wonderful!\")\n",
        " if topic == \"6\":\n",
        "  print(\"I'm giving you something simple. 1 + 1 =\",add(1,1), \"or\", \"2 - 1 =\",subtract(2,1))\n",
        " if topic == \"7\":\n",
        "  print(\"I dont have a favourite thing...or place... or person. Not even a favourite animal!\")\n",
        " if topic == \"8\":\n",
        "  print(\"The great chatbot! Oh, it's\", newname,\".\")\n",
        " if topic == \"9\":\n",
        "  print(\"$0.\")"
      ]
    },
    {
      "cell_type": "code",
      "source": [],
      "metadata": {
        "id": "oX6La8IN6mzj"
      },
      "execution_count": null,
      "outputs": []
    }
  ],
  "metadata": {
    "colab": {
      "provenance": [],
      "authorship_tag": "ABX9TyMjZIqBasANPoVYjjWHf9kp",
      "include_colab_link": true
    },
    "kernelspec": {
      "display_name": "Python 3",
      "name": "python3"
    },
    "language_info": {
      "name": "python"
    }
  },
  "nbformat": 4,
  "nbformat_minor": 0
}